{
 "cells": [
  {
   "cell_type": "markdown",
   "metadata": {},
   "source": [
    "# Module 1: Lesson 3\n",
    "\n",
    "-----\n",
    "\n",
    "## Introduction to Markdown\n",
    "\n",
    "This lesson introduces [Markdown][md], which is an annotated format for writing text that can be rendered easily in different manners. You will use Markdown throughout the course, as it is enables writing documents quickly by forcing the writer to concentrate on the content over presentation.\n",
    "\n",
    "### Objectives\n",
    "\n",
    "By the end of this lesson, you will be able to write Markdown to indicate:\n",
    "\n",
    "- header text,\n",
    "- inline styling,\n",
    "- lists,\n",
    "- code,\n",
    "- math formula, and\n",
    "- quoting text.\n",
    "\n",
    "### In Class Practice\n",
    "\n",
    "We will be using the [Introduction to Markdown][intro2md] notebook.\n",
    "\n",
    "### Additional Resources\n",
    "\n",
    "Reading: Read the some [Markdown documentation][mb] that provides a basic overview of how to write by using Markdown.\n",
    "\n",
    "Reading: Explore the [Markdown tutorial][mt], where you can interactively explore using Markdown to format text.\n",
    "\n",
    "Reading: Read the [Markdown cheat sheet][cs] that gives you a quick reference to the syntax.\n",
    "\n",
    "\n",
    "\n",
    "\n",
    "[md]: https://en.wikipedia.org/wiki/Markdown\n",
    "\n",
    "[intro2md]: intro2md.ipynb\n",
    "\n",
    "[mb]: https://www.markdownguide.org/\n",
    "\n",
    "[cs]: https://www.markdownguide.org/cheat-sheet/\n",
    "\n",
    "[mt]: https://www.markdowntutorial.com/"
   ]
  },
  {
   "cell_type": "markdown",
   "metadata": {
    "deletable": false,
    "editable": false
   },
   "source": [
    "**&copy; 2021: Matthew D. Dean, Ph.D. at William \\& Mary.**"
   ]
  }
 ],
 "metadata": {
  "kernelspec": {
   "display_name": "Python 3",
   "language": "python",
   "name": "python3"
  },
  "language_info": {
   "codemirror_mode": {
    "name": "ipython",
    "version": 3
   },
   "file_extension": ".py",
   "mimetype": "text/x-python",
   "name": "python",
   "nbconvert_exporter": "python",
   "pygments_lexer": "ipython3",
   "version": "3.7.6"
  }
 },
 "nbformat": 4,
 "nbformat_minor": 4
}
