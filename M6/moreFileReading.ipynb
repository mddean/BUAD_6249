{
 "cells": [
  {
   "cell_type": "markdown",
   "metadata": {},
   "source": [
    "# More About Reading Files\n",
    "\n",
    "We've seen rudimentary, yet very effective, ways to read data from files. Here we want to explore how to read **multiple** files from a directory. There is directory called `data` that contains several text files. We want to be able to read all of those in and then do some basic tasks.\n",
    "\n",
    "We will need to load the `os` module to allow us to traverse the directory structure."
   ]
  },
  {
   "cell_type": "code",
   "execution_count": null,
   "metadata": {},
   "outputs": [],
   "source": [
    "import os"
   ]
  },
  {
   "cell_type": "code",
   "execution_count": null,
   "metadata": {},
   "outputs": [],
   "source": [
    "# Look at files in the current working directory\n",
    "os.listdir()"
   ]
  },
  {
   "cell_type": "markdown",
   "metadata": {},
   "source": [
    "So, we see `.listdir()` returns a list of **all** the files in the directory passed in. In this case, we did not send in a specific directory, so it looked in the same directory / folder where our Jupyter Notebook resides (i.e., the current working directory). Now, let's look in the `data` subdirectory."
   ]
  },
  {
   "cell_type": "code",
   "execution_count": null,
   "metadata": {},
   "outputs": [],
   "source": [
    "# See what files are in the data subfolder\n",
    "os.listdir(\"./data\")"
   ]
  },
  {
   "cell_type": "markdown",
   "metadata": {},
   "source": [
    "What happens if we try to access a directory that does not exist?"
   ]
  },
  {
   "cell_type": "code",
   "execution_count": null,
   "metadata": {},
   "outputs": [],
   "source": [
    "# Subfolder answers does not exist\n",
    "os.listdir(\"./answers\")"
   ]
  },
  {
   "cell_type": "markdown",
   "metadata": {},
   "source": [
    "## Looping Over Files in Directory\n",
    "\n",
    "Because we can get a list of all the files (and **subfolders**) back as a list, we can easily iterate over that list and read each file. Let's try it."
   ]
  },
  {
   "cell_type": "code",
   "execution_count": null,
   "metadata": {},
   "outputs": [],
   "source": [
    "# capture list in variable named dataFiles\n",
    "dataFiles = os.listdir(\"./data\")\n",
    "\n",
    "# Use a for loop to iterate over the files, one at a time\n",
    "for file in dataFiles:\n",
    "    # print out file we are reading\n",
    "    print(\"File we are trying to open and read:\", file)\n",
    "    with open(\"./data/\"+file) as f:\n",
    "        # Just print out the contents of each file after file name\n",
    "        print(f.read())\n",
    "        print(\"\\n\\n\")"
   ]
  }
 ],
 "metadata": {
  "kernelspec": {
   "display_name": "Python 3",
   "language": "python",
   "name": "python3"
  },
  "language_info": {
   "codemirror_mode": {
    "name": "ipython",
    "version": 3
   },
   "file_extension": ".py",
   "mimetype": "text/x-python",
   "name": "python",
   "nbconvert_exporter": "python",
   "pygments_lexer": "ipython3",
   "version": "3.8.5"
  }
 },
 "nbformat": 4,
 "nbformat_minor": 4
}
